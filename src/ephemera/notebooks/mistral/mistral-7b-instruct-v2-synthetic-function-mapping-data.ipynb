{
 "cells": [
  {
   "cell_type": "code",
   "execution_count": 1,
   "id": "initial_id",
   "metadata": {
    "ExecuteTime": {
     "end_time": "2024-04-17T19:55:12.610823Z",
     "start_time": "2024-04-17T19:55:12.595024Z"
    }
   },
   "outputs": [],
   "source": [
    "# Install module to force reloading of python modules\n",
    "%load_ext autoreload"
   ]
  },
  {
   "cell_type": "code",
   "execution_count": 4,
   "id": "962afad924f59c8e",
   "metadata": {
    "ExecuteTime": {
     "end_time": "2024-04-17T19:55:41.028504Z",
     "start_time": "2024-04-17T19:55:41.021133Z"
    },
    "collapsed": false,
    "jupyter": {
     "outputs_hidden": false
    }
   },
   "outputs": [
    {
     "name": "stdout",
     "output_type": "stream",
     "text": [
      "/var/model/genie-in-the-box/src/ephemera/notebooks/mistral\n"
     ]
    },
    {
     "data": {
      "text/plain": [
       "'/var/model/genie-in-the-box/src'"
      ]
     },
     "execution_count": 4,
     "metadata": {},
     "output_type": "execute_result"
    }
   ],
   "source": [
    "import os\n",
    "\n",
    "print( os.getcwd() )\n",
    "# set working directory\n",
    "os.chdir( \"/var/model/genie-in-the-box/src\" )\n",
    "os.getcwd()"
   ]
  },
  {
   "cell_type": "code",
   "execution_count": 5,
   "id": "33ad06c1fe141c08",
   "metadata": {
    "ExecuteTime": {
     "end_time": "2024-04-17T19:55:42.567900Z",
     "start_time": "2024-04-17T19:55:42.453486Z"
    },
    "collapsed": false,
    "jupyter": {
     "outputs_hidden": false
    }
   },
   "outputs": [
    {
     "name": "stdout",
     "output_type": "stream",
     "text": [
      "total 92K\n",
      "drwxr--r-- 11 1001 1001 4.0K Sep 15 23:20 .\n",
      "drwxr--r-- 11 1001 1001 4.0K Sep 15 02:11 ..\n",
      "-rwxr--r--  1 1001 1001 8.1K Feb 27  2024 .DS_Store\n",
      "-rwxr--r--  1 1001 1001 4.0K Mar 21  2023 ._.DS_Store\n",
      "-rwxr--r--  1 1001 1001 4.0K Sep 15 15:56 ._app.py\n",
      "drwxr--r--  3 1001 1001 4.0K Mar 21  2023 .idea\n",
      "drwxr--r--  2 1001 1001 4.0K Sep 15 21:10 __pycache__\n",
      "-rw-rw-r--  1 1001 1001  25K Sep 15 21:08 app.py\n",
      "drwxr--r--  6 1001 1001 4.0K Sep 21 00:30 conf\n",
      "drwxr--r--  6 1001 1001 4.0K Feb 16  2024 ephemera\n",
      "drwxr--r-- 10 1001 1001 4.0K Apr  8 20:37 lib\n",
      "drwxr--r--  3 1001 1001 4.0K Mar 10  2023 resources\n",
      "drwxr-xr-x  2 1001 1001 4.0K Jan 24  2024 scripts\n",
      "drwxr--r--  2 1001 1001 4.0K Nov 20  2023 static\n",
      "drwxr--r--  2 1001 1001 4.0K Sep 26  2023 templates\n"
     ]
    }
   ],
   "source": [
    "! ls -alh"
   ]
  },
  {
   "cell_type": "code",
   "execution_count": 9,
   "id": "f41994637077cb94",
   "metadata": {
    "ExecuteTime": {
     "end_time": "2024-04-17T20:13:11.698143Z",
     "start_time": "2024-04-17T20:13:11.683390Z"
    },
    "collapsed": false,
    "jupyter": {
     "outputs_hidden": false
    }
   },
   "outputs": [
    {
     "ename": "ImportError",
     "evalue": "cannot import name 'FunctionMappingSearch' from 'lib.agents.function_mapping_search' (/var/genie-in-the-box/src/lib/agents/function_mapping_search.py)",
     "output_type": "error",
     "traceback": [
      "\u001B[0;31m---------------------------------------------------------------------------\u001B[0m",
      "\u001B[0;31mImportError\u001B[0m                               Traceback (most recent call last)",
      "Cell \u001B[0;32mIn[9], line 1\u001B[0m\n\u001B[0;32m----> 1\u001B[0m \u001B[38;5;28;01mfrom\u001B[39;00m \u001B[38;5;21;01mlib\u001B[39;00m\u001B[38;5;21;01m.\u001B[39;00m\u001B[38;5;21;01magents\u001B[39;00m\u001B[38;5;21;01m.\u001B[39;00m\u001B[38;5;21;01mfunction_mapping_search\u001B[39;00m \u001B[38;5;28;01mimport\u001B[39;00m FunctionMappingSearch\n",
      "\u001B[0;31mImportError\u001B[0m: cannot import name 'FunctionMappingSearch' from 'lib.agents.function_mapping_search' (/var/genie-in-the-box/src/lib/agents/function_mapping_search.py)"
     ]
    }
   ],
   "source": [
    "from lib.agents.function_mapping_search import FunctionMappingSearch\n"
   ]
  },
  {
   "cell_type": "code",
   "execution_count": null,
   "id": "c2f9e04bd014c1df",
   "metadata": {
    "collapsed": false,
    "jupyter": {
     "outputs_hidden": false
    }
   },
   "outputs": [],
   "source": []
  }
 ],
 "metadata": {
  "kernelspec": {
   "display_name": "Python 3 (ipykernel)",
   "language": "python",
   "name": "python3"
  },
  "language_info": {
   "codemirror_mode": {
    "name": "ipython",
    "version": 3
   },
   "file_extension": ".py",
   "mimetype": "text/x-python",
   "name": "python",
   "nbconvert_exporter": "python",
   "pygments_lexer": "ipython3",
   "version": "3.10.12"
  }
 },
 "nbformat": 4,
 "nbformat_minor": 5
}
